{
  "nbformat": 4,
  "nbformat_minor": 0,
  "metadata": {
    "colab": {
      "provenance": []
    },
    "kernelspec": {
      "name": "python3",
      "display_name": "Python 3"
    },
    "language_info": {
      "name": "python"
    }
  },
  "cells": [
    {
      "cell_type": "code",
      "source": [
        "!pip install rapidfuzz"
      ],
      "metadata": {
        "colab": {
          "base_uri": "https://localhost:8080/"
        },
        "id": "rt3YUism4vQz",
        "outputId": "936943bd-dd87-4845-81d6-312033924944"
      },
      "execution_count": null,
      "outputs": [
        {
          "output_type": "stream",
          "name": "stdout",
          "text": [
            "Collecting rapidfuzz\n",
            "  Downloading rapidfuzz-3.6.1-cp310-cp310-manylinux_2_17_x86_64.manylinux2014_x86_64.whl (3.4 MB)\n",
            "\u001b[2K     \u001b[90m━━━━━━━━━━━━━━━━━━━━━━━━━━━━━━━━━━━━━━━━\u001b[0m \u001b[32m3.4/3.4 MB\u001b[0m \u001b[31m15.3 MB/s\u001b[0m eta \u001b[36m0:00:00\u001b[0m\n",
            "\u001b[?25hInstalling collected packages: rapidfuzz\n",
            "Successfully installed rapidfuzz-3.6.1\n"
          ]
        }
      ]
    },
    {
      "cell_type": "code",
      "execution_count": null,
      "metadata": {
        "colab": {
          "base_uri": "https://localhost:8080/"
        },
        "id": "3HP4Ox2Z4iOk",
        "outputId": "b5e3ec12-918f-4c24-d1cd-849cc60bb370"
      },
      "outputs": [
        {
          "output_type": "stream",
          "name": "stdout",
          "text": [
            "Output file created: output_20240305202640.csv\n"
          ]
        },
        {
          "output_type": "stream",
          "name": "stderr",
          "text": [
            "<ipython-input-3-2b360668d403>:43: FutureWarning: In a future version of pandas all arguments of StringMethods.split except for the argument 'pat' will be keyword-only.\n",
            "  import_df[['First Name', 'Last Name']] = import_df['Name'].str.split(' ', 1, expand=True)\n"
          ]
        }
      ],
      "source": [
        "from rapidfuzz import process, fuzz\n",
        "import pandas as pd\n",
        "import datetime\n",
        "\n",
        "def generate_timestamp():\n",
        "    return datetime.datetime.now().strftime(\"%Y%m%d%H%M%S\")\n",
        "\n",
        "def custom_mapping(import_df, template_cols):\n",
        "    matched_columns = {}\n",
        "    import_columns = import_df.columns.tolist()\n",
        "\n",
        "    # Attempt to directly match or fuzzily match \"Years Worked\" to \"Tenure (Years)\"\n",
        "    tenure_aliases = [\"Tenure (Years)\", \"Years Worked\", \"Years_Worked\"]  # Possible variations\n",
        "    tenure_col_found = None\n",
        "\n",
        "    for alias in tenure_aliases:\n",
        "        if alias in import_columns:\n",
        "            tenure_col_found = alias\n",
        "            break\n",
        "        else:\n",
        "            # Fuzzy match for tenure-related column\n",
        "            best_match, score, _ = process.extractOne(alias, import_columns, scorer=fuzz.WRatio)\n",
        "            if score > 80:\n",
        "                tenure_col_found = best_match\n",
        "                break\n",
        "\n",
        "    if tenure_col_found:\n",
        "        matched_columns[\"Tenure (Years)\"] = tenure_col_found\n",
        "\n",
        "    # Additional direct and fuzzy mappings for other columns\n",
        "    for t_col in template_cols:\n",
        "        if t_col in [\"Tenure (Years)\"]:  # Skip already handled columns\n",
        "            continue\n",
        "        if t_col in import_columns:\n",
        "            matched_columns[t_col] = t_col\n",
        "        else:\n",
        "            best_match, score, _ = process.extractOne(t_col, import_columns, scorer=fuzz.WRatio)\n",
        "            if score > 80:\n",
        "                matched_columns[t_col] = best_match\n",
        "\n",
        "    # Handling \"Name\" column split\n",
        "    if 'Name' in import_columns and ('First Name' not in import_columns or 'Last Name' not in import_columns):\n",
        "        import_df[['First Name', 'Last Name']] = import_df['Name'].str.split(' ', 1, expand=True)\n",
        "        matched_columns['First Name'] = 'First Name'\n",
        "        matched_columns['Last Name'] = 'Last Name'\n",
        "\n",
        "    return matched_columns\n",
        "\n",
        "# Assuming the file paths are set to your CSV files\n",
        "template_df = pd.read_csv('Example_Template_File.csv')\n",
        "import_df = pd.read_csv('Import_File.csv')\n",
        "required_columns = template_df.columns.tolist()\n",
        "\n",
        "# Apply custom mapping rules\n",
        "matched_columns = custom_mapping(import_df, required_columns)\n",
        "\n",
        "# Prepare the output DataFrame\n",
        "output_df = pd.DataFrame()\n",
        "\n",
        "# Fill the output DataFrame based on matched columns\n",
        "for t_col in required_columns:\n",
        "    matched_col = matched_columns.get(t_col)\n",
        "    if matched_col:\n",
        "        output_df[t_col] = import_df[matched_col]\n",
        "    else:\n",
        "        output_df[t_col] = pd.NA  # Fill missing template columns with NaN\n",
        "\n",
        "# Generate and save the output file\n",
        "output_file_name = f\"output_{generate_timestamp()}.csv\"\n",
        "output_df.to_csv(output_file_name, index=False)\n",
        "\n",
        "print(f\"Output file created: {output_file_name}\")\n"
      ]
    }
  ]
}